{
  "cells": [
    {
      "cell_type": "markdown",
      "metadata": {
        "application/vnd.databricks.v1+cell": {
          "cellMetadata": {
            "byteLimit": 2048000,
            "rowLimit": 10000
          },
          "inputWidgets": {},
          "nuid": "7e740b4d-aa46-4f9e-b860-81ae60534ac3",
          "showTitle": false,
          "title": ""
        },
        "id": "i5m7HwtsrNex"
      },
      "source": [
        "# LLM reasoning pop quiz\n",
        "\n",
        "Do open-sourced LLMs have the reasoning prowess of their closed-sourced siblings?\n",
        "\n",
        "* Google Colab notebook information\n",
        "  * GPU: A100-SXM 40 GB\n",
        "  * Disk: 166.8 GB\n",
        "* Details on falcon-40b-instruct\n",
        "  * Documentation: [Hugging Face model card](https://huggingface.co/tiiuae/falcon-40b-instruct)\n",
        "  * Latency: See below for examples with runtimes\n",
        "  * Memory footprint: Roughly 25 GB of GPU RAM used with 4bit quantization\n",
        "  * License: [Apache 2.0](https://huggingface.co/tiiuae/falcon-40b-instruct#license)\n",
        "\n",
        "\n",
        "<a target=\"_blank\" href=\"https://colab.research.google.com/github/daniel-furman/LLM-reasoning-pop-quiz/blob/main/notebooks/falcon-40b-instruct_core_pop_quiz.ipynb\">\n",
        "  <img src=\"https://colab.research.google.com/assets/colab-badge.svg\" alt=\"Open In Colab\"/>\n",
        "</a>"
      ]
    },
    {
      "cell_type": "markdown",
      "metadata": {
        "application/vnd.databricks.v1+cell": {
          "cellMetadata": {
            "byteLimit": 2048000,
            "rowLimit": 10000
          },
          "inputWidgets": {},
          "nuid": "63fc7220-82ea-45f4-b8f2-febf499b1d64",
          "showTitle": false,
          "title": ""
        },
        "id": "bz3OEcHXrNey"
      },
      "source": [
        "## Setup"
      ]
    },
    {
      "cell_type": "code",
      "execution_count": null,
      "metadata": {
        "application/vnd.databricks.v1+cell": {
          "cellMetadata": {
            "byteLimit": 2048000,
            "rowLimit": 10000
          },
          "inputWidgets": {},
          "nuid": "fd369caa-4965-4710-9611-b4b96da5c244",
          "showTitle": false,
          "title": ""
        },
        "colab": {
          "base_uri": "https://localhost:8080/"
        },
        "id": "mAx4WnwarNey",
        "outputId": "15c99745-fa96-4650-fa2d-9c0fa4bf0a9c"
      },
      "outputs": [],
      "source": [
        "# detailed information on the GPU\n",
        "\n",
        "!nvidia-smi"
      ]
    },
    {
      "cell_type": "code",
      "execution_count": null,
      "metadata": {
        "colab": {
          "base_uri": "https://localhost:8080/"
        },
        "id": "N0Gh4WEcED95",
        "outputId": "bec944d6-d983-4bad-ad5f-9471f98b6f91"
      },
      "outputs": [],
      "source": [
        "!git clone https://github.com/daniel-furman/LLM-reasoning-pop-quiz.git"
      ]
    },
    {
      "cell_type": "code",
      "execution_count": null,
      "metadata": {
        "colab": {
          "base_uri": "https://localhost:8080/"
        },
        "id": "yigQDMrGGV1S",
        "outputId": "5a8d8cdf-2e5a-4f7d-b964-efb5708476b6"
      },
      "outputs": [],
      "source": [
        "# install necessary libraries\n",
        "import os\n",
        "\n",
        "os.chdir(\"/content/LLM-reasoning-pop-quiz\")\n",
        "!pip install -q -U -r requirements.txt\n",
        "os.chdir(\"..\")"
      ]
    },
    {
      "cell_type": "code",
      "execution_count": null,
      "metadata": {
        "application/vnd.databricks.v1+cell": {
          "cellMetadata": {
            "byteLimit": 2048000,
            "rowLimit": 10000
          },
          "inputWidgets": {},
          "nuid": "3c585315-960c-45ae-8f17-eee6c066e1f0",
          "showTitle": false,
          "title": ""
        },
        "id": "fCN8gVnErNe0"
      },
      "outputs": [],
      "source": [
        "# import libraries\n",
        "\n",
        "import transformers\n",
        "import torch\n",
        "import time\n",
        "import yaml\n",
        "\n",
        "# import helpers\n",
        "\n",
        "from drf_llm_boilers import llm_boiler"
      ]
    },
    {
      "cell_type": "code",
      "execution_count": null,
      "metadata": {
        "id": "glqF1V1RXgYp"
      },
      "outputs": [],
      "source": [
        "# set the seed\n",
        "\n",
        "transformers.set_seed(4129408)"
      ]
    },
    {
      "cell_type": "code",
      "execution_count": null,
      "metadata": {
        "application/vnd.databricks.v1+cell": {
          "cellMetadata": {
            "byteLimit": 2048000,
            "rowLimit": 10000
          },
          "inputWidgets": {},
          "nuid": "3d59cadf-9266-4d7e-986d-a0d3cc7ea62a",
          "showTitle": false,
          "title": ""
        },
        "colab": {
          "base_uri": "https://localhost:8080/"
        },
        "id": "mjHuOa_JrNe0",
        "outputId": "c1b296f7-34f4-4874-d684-127f8aa3f949"
      },
      "outputs": [],
      "source": [
        "# print GPU available memory\n",
        "\n",
        "free_in_GB = int(torch.cuda.mem_get_info()[0] / 1024**3)\n",
        "max_memory = f\"{free_in_GB-2}GB\"\n",
        "\n",
        "n_gpus = torch.cuda.device_count()\n",
        "max_memory = {i: max_memory for i in range(n_gpus)}\n",
        "max_memory"
      ]
    },
    {
      "cell_type": "markdown",
      "metadata": {
        "id": "qGyCV_6PED97"
      },
      "source": [
        "## Read in the yaml config for the run"
      ]
    },
    {
      "cell_type": "code",
      "execution_count": null,
      "metadata": {
        "colab": {
          "base_uri": "https://localhost:8080/"
        },
        "id": "YQtDrkjEED97",
        "outputId": "2464d4ef-3490-40ff-9ab6-bc3bdc632190"
      },
      "outputs": [],
      "source": [
        "with open(\n",
        "    \"/content/LLM-reasoning-pop-quiz/configs/pop_quiz_qa_style_v1.yml\", \"r\"\n",
        ") as file:\n",
        "    pop_quiz = yaml.safe_load(file)\n",
        "pop_quiz"
      ]
    },
    {
      "cell_type": "markdown",
      "metadata": {
        "application/vnd.databricks.v1+cell": {
          "cellMetadata": {
            "byteLimit": 2048000,
            "rowLimit": 10000
          },
          "inputWidgets": {},
          "nuid": "51d69770-8ac6-417f-93ec-5a04e7624f24",
          "showTitle": false,
          "title": ""
        },
        "id": "Rl3EGKoXrNe1"
      },
      "source": [
        "## Load the model"
      ]
    },
    {
      "cell_type": "code",
      "execution_count": null,
      "metadata": {
        "colab": {
          "base_uri": "https://localhost:8080/",
          "height": 335,
          "referenced_widgets": [
            "69a44a31fccd48d5bd0c5ad89b998e99",
            "649718a8727b4645a8b1808418f77fb2",
            "e2a0ccb75d954365b8d211a3dcca1f05",
            "011397a38c13494cb2bcfa9f90dacc06",
            "bc28c2bf69b546f7a3712204dc760847",
            "c8f70375dfa249088071cde4911761f9",
            "e581a5de60854676ad899fc2ed5b84d7",
            "80790b7a2c5b4396b7d68a3766ec4070",
            "9a46089696194afeb176c5f4fa0044ff",
            "f756440cbe7a4f40b4885073f797ea3b",
            "b8eb8252a0984939b7dfb5d17a138357"
          ]
        },
        "id": "wJEHXeDeI0zU",
        "outputId": "28a3f1b3-5269-4f61-9d85-11f46f0b2d3d"
      },
      "outputs": [],
      "source": [
        "# load falcon-40b-instruct\n",
        "# see source: https://huggingface.co/tiiuae/falcon-40b-instruct#how-to-get-started-with-the-model\n",
        "\n",
        "# this cell will take a long time, to avoid: deploy the LLM as an API inference endpoint\n",
        "\n",
        "model_id = \"tiiuae/falcon-40b-instruct\"\n",
        "\n",
        "model = llm_boiler(model_id)"
      ]
    },
    {
      "cell_type": "code",
      "execution_count": null,
      "metadata": {
        "colab": {
          "base_uri": "https://localhost:8080/"
        },
        "id": "Q7XJRdkMMCPR",
        "outputId": "05b65845-da3b-4094-a15f-1e58927929d5"
      },
      "outputs": [],
      "source": [
        "print(model.name, \"\\n\")\n",
        "print(model.tokenizer, \"\\n\")\n",
        "print(model.model, \"\\n\")"
      ]
    },
    {
      "cell_type": "markdown",
      "metadata": {
        "application/vnd.databricks.v1+cell": {
          "cellMetadata": {
            "byteLimit": 2048000,
            "rowLimit": 10000
          },
          "inputWidgets": {},
          "nuid": "bcb267c9-c76b-4d56-a411-483841bb787a",
          "showTitle": false,
          "title": ""
        },
        "id": "6MxLSoPXrNe2"
      },
      "source": [
        "## Run the model\n",
        "\n",
        "* For text generation options, refer to [https://huggingface.co/docs/transformers/main_classes/pipelines#transformers.TextGenerationPipeline](https://huggingface.co/docs/transformers/main_classes/pipelines#transformers.TextGenerationPipeline)\n",
        "* Below prompts are borrowed from [https://github.com/openai/openai-cookbook/blob/main/techniques_to_improve_reliability.md](https://github.com/openai/openai-cookbook/blob/main/techniques_to_improve_reliability.md)"
      ]
    },
    {
      "cell_type": "markdown",
      "metadata": {
        "id": "EhQuAUHOrNM5"
      },
      "source": [
        "### Example 1: Zero-shot reasoning conditioned on good performance\n",
        "* From https://arxiv.org/abs/2205.11916"
      ]
    },
    {
      "cell_type": "code",
      "execution_count": null,
      "metadata": {
        "colab": {
          "base_uri": "https://localhost:8080/"
        },
        "id": "5pR8hmCkNF_U",
        "outputId": "75595945-de75-4613-e091-9a5803403f2b"
      },
      "outputs": [],
      "source": [
        "# run zero shot questions\n",
        "\n",
        "for itr, prompt in enumerate(pop_quiz[\"prompts\"][\"zero_shot\"]):\n",
        "    print(f\"Question 1.{itr+1}\")\n",
        "    print(f'Prompt: \"{prompt}\"\\n')\n",
        "    start_time = time.time()\n",
        "    generated_text = model.run(\n",
        "        prompt=prompt,\n",
        "        eos_token_ids=model.tokenizer.eos_token_id,\n",
        "        max_new_tokens=256,\n",
        "        temperature=0.01,\n",
        "        do_sample=True,\n",
        "        top_p=0.92,\n",
        "        top_k=50,\n",
        "        num_return_sequences=1,\n",
        "    )\n",
        "    print(\"--- %s seconds ---\" % (time.time() - start_time))\n",
        "    print(\"\\n\")\n",
        "    print(f'Text generations: \"{generated_text}\"\\n\\n')"
      ]
    },
    {
      "cell_type": "markdown",
      "metadata": {
        "id": "VklIoMqnrmKa"
      },
      "source": [
        "### Example 2: Chain-of-thought reasoning with few-shot examples\n",
        "* From https://ai.googleblog.com/2022/05/language-models-perform-reasoning-via.html\n"
      ]
    },
    {
      "cell_type": "code",
      "execution_count": null,
      "metadata": {
        "colab": {
          "base_uri": "https://localhost:8080/"
        },
        "id": "XHgXXADcE29i",
        "outputId": "95900d2e-5583-40c7-ca27-26a8b31d7b8a"
      },
      "outputs": [],
      "source": [
        "# run cot few-shot questions\n",
        "\n",
        "for itr, prompt in enumerate(pop_quiz[\"prompts\"][\"cot_few_shot\"]):\n",
        "    print(f\"Question 2.{itr+1}\")\n",
        "    print(f'Prompt: \"{prompt}\"\\n')\n",
        "    start_time = time.time()\n",
        "    generated_text = model.run(\n",
        "        prompt=prompt,\n",
        "        eos_token_ids=model.tokenizer.eos_token_id,\n",
        "        max_new_tokens=256,\n",
        "        temperature=0.01,\n",
        "        do_sample=True,\n",
        "        top_p=0.92,\n",
        "        top_k=50,\n",
        "        num_return_sequences=1,\n",
        "    )\n",
        "    print(\"--- %s seconds ---\" % (time.time() - start_time))\n",
        "    print(\"\\n\")\n",
        "    print(f'Text generations: \"{generated_text}\"\\n\\n')"
      ]
    },
    {
      "cell_type": "markdown",
      "metadata": {
        "id": "MkgbWXQRrv4h"
      },
      "source": [
        "### Example 3: Least to most prompting\n",
        "* From https://arxiv.org/abs/2205.10625\n"
      ]
    },
    {
      "cell_type": "code",
      "execution_count": null,
      "metadata": {
        "colab": {
          "base_uri": "https://localhost:8080/"
        },
        "id": "YB7Zi75xP6v3",
        "outputId": "03b2f423-d822-4753-9e1f-b2a04c78307c"
      },
      "outputs": [],
      "source": [
        "# run least to most questions\n",
        "\n",
        "for itr, prompts in enumerate(pop_quiz[\"prompts\"][\"least_to_most\"]):\n",
        "    print(f\"Question 3.{itr+1}\")\n",
        "    # Start with sub question #1\n",
        "    sub_question_1 = prompts[0]\n",
        "    print(f'Prompt: \"{sub_question_1}\"\\n')\n",
        "\n",
        "    start_time = time.time()\n",
        "    res_1 = model.run(\n",
        "        prompt=sub_question_1,\n",
        "        eos_token_ids=model.tokenizer.eos_token_id,\n",
        "        max_new_tokens=256,\n",
        "        temperature=0.01,\n",
        "        do_sample=True,\n",
        "        top_p=0.92,\n",
        "        top_k=50,\n",
        "        num_return_sequences=1,\n",
        "    )\n",
        "    print(\"--- %s seconds ---\" % (time.time() - start_time))\n",
        "    print(\"\\n\")\n",
        "    print(f'Text generation: \"{res_1}\"\\n')\n",
        "\n",
        "    # Now do sub question #2 by appending answer to sub question #1\n",
        "    sub_question_2 = f\"{sub_question_1} {res_1} {prompts[1]}\"\n",
        "    print(f'Prompt: \"{sub_question_2}\"\\n')\n",
        "\n",
        "    start_time = time.time()\n",
        "    res_2 = model.run(\n",
        "        prompt=sub_question_2,\n",
        "        eos_token_ids=model.tokenizer.eos_token_id,\n",
        "        max_new_tokens=256,\n",
        "        temperature=0.01,\n",
        "        do_sample=True,\n",
        "        top_p=0.92,\n",
        "        top_k=50,\n",
        "        num_return_sequences=1,\n",
        "    )\n",
        "    print(\"--- %s seconds ---\" % (time.time() - start_time))\n",
        "    print(\"\\n\")\n",
        "    print(f'Text generation: \"{res_2}\"\\n')"
      ]
    },
    {
      "cell_type": "markdown",
      "metadata": {
        "id": "No9YFIU-lnjX"
      },
      "source": [
        "### Example 4: Tab-CoT\n",
        "\n",
        "* See https://arxiv.org/abs/2305.17812"
      ]
    },
    {
      "cell_type": "code",
      "execution_count": null,
      "metadata": {
        "colab": {
          "base_uri": "https://localhost:8080/"
        },
        "id": "gyEe9za5E6oE",
        "outputId": "ec902720-7d2e-4983-ae13-aa24fa6f3ec7"
      },
      "outputs": [],
      "source": [
        "# run tab-cot questions\n",
        "\n",
        "for itr, prompts in enumerate(pop_quiz[\"prompts\"][\"tab_cot\"]):\n",
        "    print(f\"Question 4.{itr+1}\")\n",
        "    # Start with sub question #1\n",
        "    sub_question_1 = prompts[0]\n",
        "    print(f'Prompt: \"{sub_question_1}\"\\n')\n",
        "\n",
        "    start_time = time.time()\n",
        "    res_1 = model.run(\n",
        "        prompt=sub_question_1,\n",
        "        eos_token_ids=model.tokenizer.eos_token_id,\n",
        "        max_new_tokens=256,\n",
        "        temperature=0.01,\n",
        "        do_sample=True,\n",
        "        top_p=0.92,\n",
        "        top_k=50,\n",
        "        num_return_sequences=1,\n",
        "    )\n",
        "    print(\"--- %s seconds ---\" % (time.time() - start_time))\n",
        "    print(\"\\n\")\n",
        "    print(f'Text generation: \"{res_1}\"\\n')\n",
        "\n",
        "    # Now do sub question #2 by appending answer to sub question #1\n",
        "    sub_question_2 = f\"{sub_question_1} {res_1} {prompts[1]}\"\n",
        "    print(f'Prompt: \"{sub_question_2}\"\\n')\n",
        "\n",
        "    start_time = time.time()\n",
        "    res_2 = model.run(\n",
        "        prompt=sub_question_2,\n",
        "        eos_token_ids=model.tokenizer.eos_token_id,\n",
        "        max_new_tokens=256,\n",
        "        temperature=0.01,\n",
        "        do_sample=True,\n",
        "        top_p=0.92,\n",
        "        top_k=50,\n",
        "        num_return_sequences=1,\n",
        "    )\n",
        "    print(\"--- %s seconds ---\" % (time.time() - start_time))\n",
        "    print(\"\\n\")\n",
        "    print(f'Text generation: \"{res_2}\"\\n')"
      ]
    },
    {
      "cell_type": "code",
      "execution_count": null,
      "metadata": {
        "id": "VBzJ4-tm8sTD"
      },
      "outputs": [],
      "source": []
    }
  ],
  "metadata": {
    "accelerator": "GPU",
    "application/vnd.databricks.v1+notebook": {
      "dashboards": [],
      "language": "python",
      "notebookMetadata": {
        "pythonIndentUnit": 4
      },
      "notebookName": "hf_LLM_load_and_run_example_dolly7b",
      "widgets": {}
    },
    "colab": {
      "gpuType": "A100",
      "machine_shape": "hm",
      "provenance": []
    },
    "kernelspec": {
      "display_name": "Python 3",
      "name": "python3"
    },
    "language_info": {
      "codemirror_mode": {
        "name": "ipython",
        "version": 3
      },
      "file_extension": ".py",
      "mimetype": "text/x-python",
      "name": "python",
      "nbconvert_exporter": "python",
      "pygments_lexer": "ipython3",
      "version": "3.8.8"
    },
    "widgets": {
      "application/vnd.jupyter.widget-state+json": {
        "011397a38c13494cb2bcfa9f90dacc06": {
          "model_module": "@jupyter-widgets/controls",
          "model_module_version": "1.5.0",
          "model_name": "HTMLModel",
          "state": {
            "_dom_classes": [],
            "_model_module": "@jupyter-widgets/controls",
            "_model_module_version": "1.5.0",
            "_model_name": "HTMLModel",
            "_view_count": null,
            "_view_module": "@jupyter-widgets/controls",
            "_view_module_version": "1.5.0",
            "_view_name": "HTMLView",
            "description": "",
            "description_tooltip": null,
            "layout": "IPY_MODEL_f756440cbe7a4f40b4885073f797ea3b",
            "placeholder": "​",
            "style": "IPY_MODEL_b8eb8252a0984939b7dfb5d17a138357",
            "value": " 9/9 [05:42&lt;00:00, 35.40s/it]"
          }
        },
        "649718a8727b4645a8b1808418f77fb2": {
          "model_module": "@jupyter-widgets/controls",
          "model_module_version": "1.5.0",
          "model_name": "HTMLModel",
          "state": {
            "_dom_classes": [],
            "_model_module": "@jupyter-widgets/controls",
            "_model_module_version": "1.5.0",
            "_model_name": "HTMLModel",
            "_view_count": null,
            "_view_module": "@jupyter-widgets/controls",
            "_view_module_version": "1.5.0",
            "_view_name": "HTMLView",
            "description": "",
            "description_tooltip": null,
            "layout": "IPY_MODEL_c8f70375dfa249088071cde4911761f9",
            "placeholder": "​",
            "style": "IPY_MODEL_e581a5de60854676ad899fc2ed5b84d7",
            "value": "Loading checkpoint shards: 100%"
          }
        },
        "69a44a31fccd48d5bd0c5ad89b998e99": {
          "model_module": "@jupyter-widgets/controls",
          "model_module_version": "1.5.0",
          "model_name": "HBoxModel",
          "state": {
            "_dom_classes": [],
            "_model_module": "@jupyter-widgets/controls",
            "_model_module_version": "1.5.0",
            "_model_name": "HBoxModel",
            "_view_count": null,
            "_view_module": "@jupyter-widgets/controls",
            "_view_module_version": "1.5.0",
            "_view_name": "HBoxView",
            "box_style": "",
            "children": [
              "IPY_MODEL_649718a8727b4645a8b1808418f77fb2",
              "IPY_MODEL_e2a0ccb75d954365b8d211a3dcca1f05",
              "IPY_MODEL_011397a38c13494cb2bcfa9f90dacc06"
            ],
            "layout": "IPY_MODEL_bc28c2bf69b546f7a3712204dc760847"
          }
        },
        "80790b7a2c5b4396b7d68a3766ec4070": {
          "model_module": "@jupyter-widgets/base",
          "model_module_version": "1.2.0",
          "model_name": "LayoutModel",
          "state": {
            "_model_module": "@jupyter-widgets/base",
            "_model_module_version": "1.2.0",
            "_model_name": "LayoutModel",
            "_view_count": null,
            "_view_module": "@jupyter-widgets/base",
            "_view_module_version": "1.2.0",
            "_view_name": "LayoutView",
            "align_content": null,
            "align_items": null,
            "align_self": null,
            "border": null,
            "bottom": null,
            "display": null,
            "flex": null,
            "flex_flow": null,
            "grid_area": null,
            "grid_auto_columns": null,
            "grid_auto_flow": null,
            "grid_auto_rows": null,
            "grid_column": null,
            "grid_gap": null,
            "grid_row": null,
            "grid_template_areas": null,
            "grid_template_columns": null,
            "grid_template_rows": null,
            "height": null,
            "justify_content": null,
            "justify_items": null,
            "left": null,
            "margin": null,
            "max_height": null,
            "max_width": null,
            "min_height": null,
            "min_width": null,
            "object_fit": null,
            "object_position": null,
            "order": null,
            "overflow": null,
            "overflow_x": null,
            "overflow_y": null,
            "padding": null,
            "right": null,
            "top": null,
            "visibility": null,
            "width": null
          }
        },
        "9a46089696194afeb176c5f4fa0044ff": {
          "model_module": "@jupyter-widgets/controls",
          "model_module_version": "1.5.0",
          "model_name": "ProgressStyleModel",
          "state": {
            "_model_module": "@jupyter-widgets/controls",
            "_model_module_version": "1.5.0",
            "_model_name": "ProgressStyleModel",
            "_view_count": null,
            "_view_module": "@jupyter-widgets/base",
            "_view_module_version": "1.2.0",
            "_view_name": "StyleView",
            "bar_color": null,
            "description_width": ""
          }
        },
        "b8eb8252a0984939b7dfb5d17a138357": {
          "model_module": "@jupyter-widgets/controls",
          "model_module_version": "1.5.0",
          "model_name": "DescriptionStyleModel",
          "state": {
            "_model_module": "@jupyter-widgets/controls",
            "_model_module_version": "1.5.0",
            "_model_name": "DescriptionStyleModel",
            "_view_count": null,
            "_view_module": "@jupyter-widgets/base",
            "_view_module_version": "1.2.0",
            "_view_name": "StyleView",
            "description_width": ""
          }
        },
        "bc28c2bf69b546f7a3712204dc760847": {
          "model_module": "@jupyter-widgets/base",
          "model_module_version": "1.2.0",
          "model_name": "LayoutModel",
          "state": {
            "_model_module": "@jupyter-widgets/base",
            "_model_module_version": "1.2.0",
            "_model_name": "LayoutModel",
            "_view_count": null,
            "_view_module": "@jupyter-widgets/base",
            "_view_module_version": "1.2.0",
            "_view_name": "LayoutView",
            "align_content": null,
            "align_items": null,
            "align_self": null,
            "border": null,
            "bottom": null,
            "display": null,
            "flex": null,
            "flex_flow": null,
            "grid_area": null,
            "grid_auto_columns": null,
            "grid_auto_flow": null,
            "grid_auto_rows": null,
            "grid_column": null,
            "grid_gap": null,
            "grid_row": null,
            "grid_template_areas": null,
            "grid_template_columns": null,
            "grid_template_rows": null,
            "height": null,
            "justify_content": null,
            "justify_items": null,
            "left": null,
            "margin": null,
            "max_height": null,
            "max_width": null,
            "min_height": null,
            "min_width": null,
            "object_fit": null,
            "object_position": null,
            "order": null,
            "overflow": null,
            "overflow_x": null,
            "overflow_y": null,
            "padding": null,
            "right": null,
            "top": null,
            "visibility": null,
            "width": null
          }
        },
        "c8f70375dfa249088071cde4911761f9": {
          "model_module": "@jupyter-widgets/base",
          "model_module_version": "1.2.0",
          "model_name": "LayoutModel",
          "state": {
            "_model_module": "@jupyter-widgets/base",
            "_model_module_version": "1.2.0",
            "_model_name": "LayoutModel",
            "_view_count": null,
            "_view_module": "@jupyter-widgets/base",
            "_view_module_version": "1.2.0",
            "_view_name": "LayoutView",
            "align_content": null,
            "align_items": null,
            "align_self": null,
            "border": null,
            "bottom": null,
            "display": null,
            "flex": null,
            "flex_flow": null,
            "grid_area": null,
            "grid_auto_columns": null,
            "grid_auto_flow": null,
            "grid_auto_rows": null,
            "grid_column": null,
            "grid_gap": null,
            "grid_row": null,
            "grid_template_areas": null,
            "grid_template_columns": null,
            "grid_template_rows": null,
            "height": null,
            "justify_content": null,
            "justify_items": null,
            "left": null,
            "margin": null,
            "max_height": null,
            "max_width": null,
            "min_height": null,
            "min_width": null,
            "object_fit": null,
            "object_position": null,
            "order": null,
            "overflow": null,
            "overflow_x": null,
            "overflow_y": null,
            "padding": null,
            "right": null,
            "top": null,
            "visibility": null,
            "width": null
          }
        },
        "e2a0ccb75d954365b8d211a3dcca1f05": {
          "model_module": "@jupyter-widgets/controls",
          "model_module_version": "1.5.0",
          "model_name": "FloatProgressModel",
          "state": {
            "_dom_classes": [],
            "_model_module": "@jupyter-widgets/controls",
            "_model_module_version": "1.5.0",
            "_model_name": "FloatProgressModel",
            "_view_count": null,
            "_view_module": "@jupyter-widgets/controls",
            "_view_module_version": "1.5.0",
            "_view_name": "ProgressView",
            "bar_style": "success",
            "description": "",
            "description_tooltip": null,
            "layout": "IPY_MODEL_80790b7a2c5b4396b7d68a3766ec4070",
            "max": 9,
            "min": 0,
            "orientation": "horizontal",
            "style": "IPY_MODEL_9a46089696194afeb176c5f4fa0044ff",
            "value": 9
          }
        },
        "e581a5de60854676ad899fc2ed5b84d7": {
          "model_module": "@jupyter-widgets/controls",
          "model_module_version": "1.5.0",
          "model_name": "DescriptionStyleModel",
          "state": {
            "_model_module": "@jupyter-widgets/controls",
            "_model_module_version": "1.5.0",
            "_model_name": "DescriptionStyleModel",
            "_view_count": null,
            "_view_module": "@jupyter-widgets/base",
            "_view_module_version": "1.2.0",
            "_view_name": "StyleView",
            "description_width": ""
          }
        },
        "f756440cbe7a4f40b4885073f797ea3b": {
          "model_module": "@jupyter-widgets/base",
          "model_module_version": "1.2.0",
          "model_name": "LayoutModel",
          "state": {
            "_model_module": "@jupyter-widgets/base",
            "_model_module_version": "1.2.0",
            "_model_name": "LayoutModel",
            "_view_count": null,
            "_view_module": "@jupyter-widgets/base",
            "_view_module_version": "1.2.0",
            "_view_name": "LayoutView",
            "align_content": null,
            "align_items": null,
            "align_self": null,
            "border": null,
            "bottom": null,
            "display": null,
            "flex": null,
            "flex_flow": null,
            "grid_area": null,
            "grid_auto_columns": null,
            "grid_auto_flow": null,
            "grid_auto_rows": null,
            "grid_column": null,
            "grid_gap": null,
            "grid_row": null,
            "grid_template_areas": null,
            "grid_template_columns": null,
            "grid_template_rows": null,
            "height": null,
            "justify_content": null,
            "justify_items": null,
            "left": null,
            "margin": null,
            "max_height": null,
            "max_width": null,
            "min_height": null,
            "min_width": null,
            "object_fit": null,
            "object_position": null,
            "order": null,
            "overflow": null,
            "overflow_x": null,
            "overflow_y": null,
            "padding": null,
            "right": null,
            "top": null,
            "visibility": null,
            "width": null
          }
        }
      }
    }
  },
  "nbformat": 4,
  "nbformat_minor": 0
}
