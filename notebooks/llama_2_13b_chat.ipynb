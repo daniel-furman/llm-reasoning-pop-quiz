{
 "cells": [
  {
   "cell_type": "markdown",
   "metadata": {
    "application/vnd.databricks.v1+cell": {
     "cellMetadata": {
      "byteLimit": 2048000,
      "rowLimit": 10000
     },
     "inputWidgets": {},
     "nuid": "7e740b4d-aa46-4f9e-b860-81ae60534ac3",
     "showTitle": false,
     "title": ""
    },
    "id": "i5m7HwtsrNex"
   },
   "source": [
    "# LLM reasoning pop quiz\n",
    "\n",
    "Do open-sourced LLMs have the reasoning prowess of their closed-sourced siblings?\n"
   ]
  },
  {
   "cell_type": "markdown",
   "metadata": {
    "id": "Olp48FF9MQYO"
   },
   "source": [
    "## Table of Contents\n",
    "\n",
    "1. Setup\n",
    "2. Read yaml config\n",
    "3. Load model\n",
    "4. Run the quiz"
   ]
  },
  {
   "cell_type": "markdown",
   "metadata": {
    "application/vnd.databricks.v1+cell": {
     "cellMetadata": {
      "byteLimit": 2048000,
      "rowLimit": 10000
     },
     "inputWidgets": {},
     "nuid": "63fc7220-82ea-45f4-b8f2-febf499b1d64",
     "showTitle": false,
     "title": ""
    },
    "id": "bz3OEcHXrNey"
   },
   "source": [
    "## Setup"
   ]
  },
  {
   "cell_type": "code",
   "execution_count": 1,
   "metadata": {
    "application/vnd.databricks.v1+cell": {
     "cellMetadata": {
      "byteLimit": 2048000,
      "rowLimit": 10000
     },
     "inputWidgets": {},
     "nuid": "fd369caa-4965-4710-9611-b4b96da5c244",
     "showTitle": false,
     "title": ""
    },
    "colab": {
     "base_uri": "https://localhost:8080/"
    },
    "id": "mAx4WnwarNey",
    "outputId": "fd5d59a5-15ed-4de7-f14c-573febfc524a"
   },
   "outputs": [
    {
     "name": "stdout",
     "output_type": "stream",
     "text": [
      "Sun Oct 29 02:47:13 2023       \n",
      "+-----------------------------------------------------------------------------+\n",
      "| NVIDIA-SMI 525.105.17   Driver Version: 525.105.17   CUDA Version: 12.0     |\n",
      "|-------------------------------+----------------------+----------------------+\n",
      "| GPU  Name        Persistence-M| Bus-Id        Disp.A | Volatile Uncorr. ECC |\n",
      "| Fan  Temp  Perf  Pwr:Usage/Cap|         Memory-Usage | GPU-Util  Compute M. |\n",
      "|                               |                      |               MIG M. |\n",
      "|===============================+======================+======================|\n",
      "|   0  Tesla V100-SXM2...  Off  | 00000000:00:04.0 Off |                    0 |\n",
      "| N/A   42C    P0    52W / 300W |      0MiB / 16384MiB |      0%      Default |\n",
      "|                               |                      |                  N/A |\n",
      "+-------------------------------+----------------------+----------------------+\n",
      "                                                                               \n",
      "+-----------------------------------------------------------------------------+\n",
      "| Processes:                                                                  |\n",
      "|  GPU   GI   CI        PID   Type   Process name                  GPU Memory |\n",
      "|        ID   ID                                                   Usage      |\n",
      "|=============================================================================|\n",
      "|  No running processes found                                                 |\n",
      "+-----------------------------------------------------------------------------+\n"
     ]
    }
   ],
   "source": [
    "# detailed information on the GPU\n",
    "\n",
    "!nvidia-smi"
   ]
  },
  {
   "cell_type": "code",
   "execution_count": 2,
   "metadata": {
    "colab": {
     "base_uri": "https://localhost:8080/"
    },
    "id": "N0Gh4WEcED95",
    "outputId": "e6baa099-3304-4cf8-939d-d832cd274986"
   },
   "outputs": [
    {
     "name": "stdout",
     "output_type": "stream",
     "text": [
      "fatal: destination path 'LLM-reasoning-pop-quiz' already exists and is not an empty directory.\n"
     ]
    }
   ],
   "source": [
    "!git clone https://github.com/daniel-furman/LLM-reasoning-pop-quiz.git"
   ]
  },
  {
   "cell_type": "code",
   "execution_count": 3,
   "metadata": {
    "colab": {
     "base_uri": "https://localhost:8080/"
    },
    "id": "yigQDMrGGV1S",
    "outputId": "e4c5298b-2e38-4802-db43-962833e9c224"
   },
   "outputs": [
    {
     "name": "stdout",
     "output_type": "stream",
     "text": [
      "  Installing build dependencies ... \u001b[?25l\u001b[?25hdone\n",
      "  Getting requirements to build wheel ... \u001b[?25l\u001b[?25hdone\n",
      "  Preparing metadata (pyproject.toml) ... \u001b[?25l\u001b[?25hdone\n",
      "  Preparing metadata (setup.py) ... \u001b[?25l\u001b[?25hdone\n",
      "  Building wheel for drf-llm-boilers (setup.py) ... \u001b[?25l\u001b[?25hdone\n"
     ]
    }
   ],
   "source": [
    "# install necessary libraries\n",
    "import os\n",
    "\n",
    "os.chdir(\"/content/LLM-reasoning-pop-quiz\")\n",
    "!pip install -q -U -r requirements.txt\n",
    "os.chdir(\"..\")"
   ]
  },
  {
   "cell_type": "code",
   "execution_count": 4,
   "metadata": {
    "colab": {
     "base_uri": "https://localhost:8080/"
    },
    "id": "M2w80pHvHoDX",
    "outputId": "29ebc85f-de01-408a-8829-1de113b4a23c"
   },
   "outputs": [
    {
     "name": "stdout",
     "output_type": "stream",
     "text": [
      "Package                          Version\n",
      "-------------------------------- ---------------------\n",
      "absl-py                          1.4.0\n",
      "accelerate                       0.24.0\n",
      "aiohttp                          3.8.6\n",
      "aiosignal                        1.3.1\n",
      "alabaster                        0.7.13\n",
      "albumentations                   1.3.1\n",
      "altair                           4.2.2\n",
      "anyio                            3.7.1\n",
      "appdirs                          1.4.4\n",
      "argon2-cffi                      23.1.0\n",
      "argon2-cffi-bindings             21.2.0\n",
      "array-record                     0.5.0\n",
      "arviz                            0.15.1\n",
      "astropy                          5.3.4\n",
      "astunparse                       1.6.3\n",
      "async-timeout                    4.0.3\n",
      "atpublic                         4.0\n",
      "attrs                            23.1.0\n",
      "audioread                        3.0.1\n",
      "autograd                         1.6.2\n",
      "Babel                            2.13.1\n",
      "backcall                         0.2.0\n",
      "beautifulsoup4                   4.11.2\n",
      "bidict                           0.22.1\n",
      "bigframes                        0.10.0\n",
      "bitsandbytes                     0.41.1\n",
      "black                            23.10.1\n",
      "bleach                           6.1.0\n",
      "blinker                          1.4\n",
      "blis                             0.7.11\n",
      "blosc2                           2.0.0\n",
      "bokeh                            3.2.2\n",
      "bqplot                           0.12.42\n",
      "branca                           0.6.0\n",
      "build                            1.0.3\n",
      "CacheControl                     0.13.1\n",
      "cachetools                       5.3.2\n",
      "catalogue                        2.0.10\n",
      "certifi                          2023.7.22\n",
      "cffi                             1.16.0\n",
      "chardet                          5.2.0\n",
      "charset-normalizer               3.3.1\n",
      "chex                             0.1.7\n",
      "click                            8.1.7\n",
      "click-plugins                    1.1.1\n",
      "cligj                            0.7.2\n",
      "cloudpickle                      2.2.1\n",
      "cmake                            3.27.7\n",
      "cmdstanpy                        1.2.0\n",
      "colorcet                         3.0.1\n",
      "colorlover                       0.3.0\n",
      "colour                           0.1.5\n",
      "community                        1.0.0b1\n",
      "confection                       0.1.3\n",
      "cons                             0.4.6\n",
      "contextlib2                      21.6.0\n",
      "contourpy                        1.1.1\n",
      "cryptography                     41.0.5\n",
      "cufflinks                        0.17.3\n",
      "cupy-cuda11x                     11.0.0\n",
      "cvxopt                           1.3.2\n",
      "cvxpy                            1.3.2\n",
      "cycler                           0.12.1\n",
      "cymem                            2.0.8\n",
      "Cython                           3.0.4\n",
      "dask                             2023.8.1\n",
      "datascience                      0.17.6\n",
      "db-dtypes                        1.1.1\n",
      "dbus-python                      1.2.18\n",
      "debugpy                          1.6.6\n",
      "decorator                        4.4.2\n",
      "defusedxml                       0.7.1\n",
      "diskcache                        5.6.3\n",
      "distributed                      2023.8.1\n",
      "distro                           1.7.0\n",
      "dlib                             19.24.2\n",
      "dm-tree                          0.1.8\n",
      "docutils                         0.18.1\n",
      "dopamine-rl                      4.0.6\n",
      "drf-llm-boilers                  0.1.1\n",
      "duckdb                           0.8.1\n",
      "earthengine-api                  0.1.375\n",
      "easydict                         1.11\n",
      "ecos                             2.0.12\n",
      "editdistance                     0.6.2\n",
      "eerepr                           0.0.4\n",
      "einops                           0.7.0\n",
      "en-core-web-sm                   3.6.0\n",
      "entrypoints                      0.4\n",
      "et-xmlfile                       1.1.0\n",
      "etils                            1.5.2\n",
      "etuples                          0.3.9\n",
      "exceptiongroup                   1.1.3\n",
      "fastai                           2.7.13\n",
      "fastcore                         1.5.29\n",
      "fastdownload                     0.0.7\n",
      "fastjsonschema                   2.18.1\n",
      "fastprogress                     1.0.3\n",
      "fastrlock                        0.8.2\n",
      "filelock                         3.12.4\n",
      "fiona                            1.9.5\n",
      "firebase-admin                   5.3.0\n",
      "Flask                            2.2.5\n",
      "flatbuffers                      23.5.26\n",
      "flax                             0.7.4\n",
      "folium                           0.14.0\n",
      "fonttools                        4.43.1\n",
      "frozendict                       2.3.8\n",
      "frozenlist                       1.4.0\n",
      "fsspec                           2023.6.0\n",
      "future                           0.18.3\n",
      "gast                             0.5.4\n",
      "gcsfs                            2023.6.0\n",
      "GDAL                             3.4.3\n",
      "gdown                            4.6.6\n",
      "geemap                           0.28.2\n",
      "gensim                           4.3.2\n",
      "geocoder                         1.38.1\n",
      "geographiclib                    2.0\n",
      "geopandas                        0.13.2\n",
      "geopy                            2.3.0\n",
      "gin-config                       0.5.0\n",
      "glob2                            0.7\n",
      "google                           2.0.3\n",
      "google-api-core                  2.11.1\n",
      "google-api-python-client         2.84.0\n",
      "google-auth                      2.17.3\n",
      "google-auth-httplib2             0.1.1\n",
      "google-auth-oauthlib             1.0.0\n",
      "google-cloud-bigquery            3.12.0\n",
      "google-cloud-bigquery-connection 1.12.1\n",
      "google-cloud-bigquery-storage    2.22.0\n",
      "google-cloud-core                2.3.3\n",
      "google-cloud-datastore           2.15.2\n",
      "google-cloud-firestore           2.11.1\n",
      "google-cloud-functions           1.13.3\n",
      "google-cloud-iam                 2.12.2\n",
      "google-cloud-language            2.9.1\n",
      "google-cloud-resource-manager    1.10.4\n",
      "google-cloud-storage             2.8.0\n",
      "google-cloud-translate           3.11.3\n",
      "google-colab                     1.0.0\n",
      "google-crc32c                    1.5.0\n",
      "google-pasta                     0.2.0\n",
      "google-resumable-media           2.6.0\n",
      "googleapis-common-protos         1.61.0\n",
      "googledrivedownloader            0.4\n",
      "graphviz                         0.20.1\n",
      "greenlet                         3.0.0\n",
      "grpc-google-iam-v1               0.12.6\n",
      "grpcio                           1.59.0\n",
      "grpcio-status                    1.48.2\n",
      "gspread                          3.4.2\n",
      "gspread-dataframe                3.3.1\n",
      "gym                              0.25.2\n",
      "gym-notices                      0.0.8\n",
      "h5netcdf                         1.2.0\n",
      "h5py                             3.9.0\n",
      "holidays                         0.35\n",
      "holoviews                        1.17.1\n",
      "html5lib                         1.1\n",
      "httpimport                       1.3.1\n",
      "httplib2                         0.22.0\n",
      "huggingface-hub                  0.17.3\n",
      "humanize                         4.7.0\n",
      "hyperopt                         0.2.7\n",
      "ibis-framework                   6.2.0\n",
      "idna                             3.4\n",
      "imageio                          2.31.6\n",
      "imageio-ffmpeg                   0.4.9\n",
      "imagesize                        1.4.1\n",
      "imbalanced-learn                 0.10.1\n",
      "imgaug                           0.4.0\n",
      "importlib-metadata               6.8.0\n",
      "importlib-resources              6.1.0\n",
      "imutils                          0.5.4\n",
      "inflect                          7.0.0\n",
      "iniconfig                        2.0.0\n",
      "install                          1.3.5\n",
      "intel-openmp                     2023.2.0\n",
      "ipyevents                        2.0.2\n",
      "ipyfilechooser                   0.6.0\n",
      "ipykernel                        5.5.6\n",
      "ipyleaflet                       0.17.4\n",
      "ipython                          7.34.0\n",
      "ipython-genutils                 0.2.0\n",
      "ipython-sql                      0.5.0\n",
      "ipytree                          0.2.2\n",
      "ipywidgets                       7.7.1\n",
      "itsdangerous                     2.1.2\n",
      "jax                              0.4.16\n",
      "jaxlib                           0.4.16+cuda11.cudnn86\n",
      "jedi                             0.19.1\n",
      "jeepney                          0.7.1\n",
      "jieba                            0.42.1\n",
      "Jinja2                           3.1.2\n",
      "joblib                           1.3.2\n",
      "jsonpickle                       3.0.2\n",
      "jsonschema                       4.19.1\n",
      "jsonschema-specifications        2023.7.1\n",
      "jupyter-client                   6.1.12\n",
      "jupyter-console                  6.1.0\n",
      "jupyter_core                     5.4.0\n",
      "jupyter-server                   1.24.0\n",
      "jupyterlab-pygments              0.2.2\n",
      "jupyterlab-widgets               3.0.9\n",
      "kaggle                           1.5.16\n",
      "keras                            2.14.0\n",
      "keyring                          23.5.0\n",
      "kiwisolver                       1.4.5\n",
      "langcodes                        3.3.0\n",
      "launchpadlib                     1.10.16\n",
      "lazr.restfulclient               0.14.4\n",
      "lazr.uri                         1.0.6\n",
      "lazy_loader                      0.3\n",
      "libclang                         16.0.6\n",
      "librosa                          0.10.1\n",
      "lida                             0.0.10\n",
      "lightgbm                         4.1.0\n",
      "linkify-it-py                    2.0.2\n",
      "llmx                             0.0.15a0\n",
      "llvmlite                         0.39.1\n",
      "locket                           1.0.0\n",
      "logical-unification              0.4.6\n",
      "lxml                             4.9.3\n",
      "malloy                           2023.1058\n",
      "Markdown                         3.5\n",
      "markdown-it-py                   3.0.0\n",
      "MarkupSafe                       2.1.3\n",
      "matplotlib                       3.7.1\n",
      "matplotlib-inline                0.1.6\n",
      "matplotlib-venn                  0.11.9\n",
      "mdit-py-plugins                  0.4.0\n",
      "mdurl                            0.1.2\n",
      "miniKanren                       1.0.3\n",
      "missingno                        0.5.2\n",
      "mistune                          0.8.4\n",
      "mizani                           0.9.3\n",
      "mkl                              2023.2.0\n",
      "ml-dtypes                        0.2.0\n",
      "mlxtend                          0.22.0\n",
      "more-itertools                   10.1.0\n",
      "moviepy                          1.0.3\n",
      "mpmath                           1.3.0\n",
      "msgpack                          1.0.7\n",
      "multidict                        6.0.4\n",
      "multipledispatch                 1.0.0\n",
      "multitasking                     0.0.11\n",
      "murmurhash                       1.0.10\n",
      "music21                          9.1.0\n",
      "mypy-extensions                  1.0.0\n",
      "natsort                          8.4.0\n",
      "nbclassic                        1.0.0\n",
      "nbclient                         0.8.0\n",
      "nbconvert                        6.5.4\n",
      "nbformat                         5.9.2\n",
      "nest-asyncio                     1.5.8\n",
      "networkx                         3.2\n",
      "nibabel                          4.0.2\n",
      "nltk                             3.8.1\n",
      "notebook                         6.5.5\n",
      "notebook_shim                    0.2.3\n",
      "numba                            0.56.4\n",
      "numexpr                          2.8.7\n",
      "numpy                            1.23.5\n",
      "oauth2client                     4.1.3\n",
      "oauthlib                         3.2.2\n",
      "opencv-contrib-python            4.8.0.76\n",
      "opencv-python                    4.8.0.76\n",
      "opencv-python-headless           4.8.1.78\n",
      "openpyxl                         3.1.2\n",
      "opt-einsum                       3.3.0\n",
      "optax                            0.1.7\n",
      "orbax-checkpoint                 0.4.1\n",
      "osqp                             0.6.2.post8\n",
      "packaging                        23.2\n",
      "pandas                           1.5.3\n",
      "pandas-datareader                0.10.0\n",
      "pandas-gbq                       0.17.9\n",
      "pandas-stubs                     1.5.3.230304\n",
      "pandocfilters                    1.5.0\n",
      "panel                            1.3.0\n",
      "param                            2.0.0\n",
      "parso                            0.8.3\n",
      "parsy                            2.1\n",
      "partd                            1.4.1\n",
      "pathlib                          1.0.1\n",
      "pathspec                         0.11.2\n",
      "pathy                            0.10.3\n",
      "patsy                            0.5.3\n",
      "peewee                           3.17.0\n",
      "pexpect                          4.8.0\n",
      "pickleshare                      0.7.5\n",
      "Pillow                           9.4.0\n",
      "pip                              23.1.2\n",
      "pip-tools                        6.13.0\n",
      "platformdirs                     3.11.0\n",
      "plotly                           5.15.0\n",
      "plotnine                         0.12.3\n",
      "pluggy                           1.3.0\n",
      "polars                           0.17.3\n",
      "pooch                            1.8.0\n",
      "portpicker                       1.5.2\n",
      "prefetch-generator               1.0.3\n",
      "preshed                          3.0.9\n",
      "prettytable                      3.9.0\n",
      "proglog                          0.1.10\n",
      "progressbar2                     4.2.0\n",
      "prometheus-client                0.17.1\n",
      "promise                          2.3\n",
      "prompt-toolkit                   3.0.39\n",
      "prophet                          1.1.5\n",
      "proto-plus                       1.22.3\n",
      "protobuf                         3.20.3\n",
      "psutil                           5.9.5\n",
      "psycopg2                         2.9.9\n",
      "ptyprocess                       0.7.0\n",
      "py-cpuinfo                       9.0.0\n",
      "py4j                             0.10.9.7\n",
      "pyarrow                          9.0.0\n",
      "pyasn1                           0.5.0\n",
      "pyasn1-modules                   0.3.0\n",
      "pycocotools                      2.0.7\n",
      "pycparser                        2.21\n",
      "pyct                             0.5.0\n",
      "pydantic                         1.10.13\n",
      "pydata-google-auth               1.8.2\n",
      "pydot                            1.4.2\n",
      "pydot-ng                         2.0.0\n",
      "pydotplus                        2.0.2\n",
      "PyDrive                          1.3.1\n",
      "PyDrive2                         1.6.3\n",
      "pyerfa                           2.0.1.1\n",
      "pygame                           2.5.2\n",
      "Pygments                         2.16.1\n",
      "PyGObject                        3.42.1\n",
      "PyJWT                            2.3.0\n",
      "pymc                             5.7.2\n",
      "pymystem3                        0.2.0\n",
      "PyOpenGL                         3.1.7\n",
      "pyOpenSSL                        23.2.0\n",
      "pyparsing                        3.1.1\n",
      "pyperclip                        1.8.2\n",
      "pyproj                           3.6.1\n",
      "pyproject_hooks                  1.0.0\n",
      "pyshp                            2.3.1\n",
      "PySocks                          1.7.1\n",
      "pytensor                         2.14.2\n",
      "pytest                           7.4.3\n",
      "python-apt                       0.0.0\n",
      "python-box                       7.1.1\n",
      "python-dateutil                  2.8.2\n",
      "python-dotenv                    1.0.0\n",
      "python-louvain                   0.16\n",
      "python-slugify                   8.0.1\n",
      "python-utils                     3.8.1\n",
      "pytz                             2023.3.post1\n",
      "pyviz_comms                      3.0.0\n",
      "PyWavelets                       1.4.1\n",
      "PyYAML                           6.0.1\n",
      "pyzmq                            23.2.1\n",
      "qdldl                            0.1.7.post0\n",
      "qudida                           0.0.4\n",
      "ratelim                          0.1.6\n",
      "referencing                      0.30.2\n",
      "regex                            2023.6.3\n",
      "requests                         2.31.0\n",
      "requests-oauthlib                1.3.1\n",
      "requirements-parser              0.5.0\n",
      "rich                             13.6.0\n",
      "rpds-py                          0.10.6\n",
      "rpy2                             3.4.2\n",
      "rsa                              4.9\n",
      "safetensors                      0.4.0\n",
      "scikit-image                     0.19.3\n",
      "scikit-learn                     1.2.2\n",
      "scipy                            1.11.3\n",
      "scooby                           0.9.2\n",
      "scs                              3.2.3\n",
      "seaborn                          0.12.2\n",
      "SecretStorage                    3.3.1\n",
      "Send2Trash                       1.8.2\n",
      "sentencepiece                    0.1.99\n",
      "setuptools                       67.7.2\n",
      "shapely                          2.0.2\n",
      "six                              1.16.0\n",
      "sklearn-pandas                   2.2.0\n",
      "smart-open                       6.4.0\n",
      "sniffio                          1.3.0\n",
      "snowballstemmer                  2.2.0\n",
      "sortedcontainers                 2.4.0\n",
      "soundfile                        0.12.1\n",
      "soupsieve                        2.5\n",
      "soxr                             0.3.7\n",
      "spacy                            3.6.1\n",
      "spacy-legacy                     3.0.12\n",
      "spacy-loggers                    1.0.5\n",
      "Sphinx                           5.0.2\n",
      "sphinxcontrib-applehelp          1.0.7\n",
      "sphinxcontrib-devhelp            1.0.5\n",
      "sphinxcontrib-htmlhelp           2.0.4\n",
      "sphinxcontrib-jsmath             1.0.1\n",
      "sphinxcontrib-qthelp             1.0.6\n",
      "sphinxcontrib-serializinghtml    1.1.9\n",
      "SQLAlchemy                       2.0.22\n",
      "sqlglot                          17.16.2\n",
      "sqlparse                         0.4.4\n",
      "srsly                            2.4.8\n",
      "stanio                           0.3.0\n",
      "statsmodels                      0.14.0\n",
      "sympy                            1.12\n",
      "tables                           3.8.0\n",
      "tabulate                         0.9.0\n",
      "tbb                              2021.10.0\n",
      "tblib                            3.0.0\n",
      "tenacity                         8.2.3\n",
      "tensorboard                      2.14.1\n",
      "tensorboard-data-server          0.7.2\n",
      "tensorflow                       2.14.0\n",
      "tensorflow-datasets              4.9.3\n",
      "tensorflow-estimator             2.14.0\n",
      "tensorflow-gcs-config            2.14.0\n",
      "tensorflow-hub                   0.15.0\n",
      "tensorflow-io-gcs-filesystem     0.34.0\n",
      "tensorflow-metadata              1.14.0\n",
      "tensorflow-probability           0.22.0\n",
      "tensorstore                      0.1.45\n",
      "termcolor                        2.3.0\n",
      "terminado                        0.17.1\n",
      "text-unidecode                   1.3\n",
      "textblob                         0.17.1\n",
      "tf-slim                          1.1.0\n",
      "thinc                            8.1.12\n",
      "threadpoolctl                    3.2.0\n",
      "tifffile                         2023.9.26\n",
      "tinycss2                         1.2.1\n",
      "tokenize-rt                      5.2.0\n",
      "tokenizers                       0.14.1\n",
      "toml                             0.10.2\n",
      "tomli                            2.0.1\n",
      "toolz                            0.12.0\n",
      "torch                            2.1.0+cu118\n",
      "torchaudio                       2.1.0+cu118\n",
      "torchdata                        0.7.0\n",
      "torchsummary                     1.5.1\n",
      "torchtext                        0.16.0\n",
      "torchvision                      0.16.0+cu118\n",
      "tornado                          6.3.2\n",
      "tqdm                             4.66.1\n",
      "traitlets                        5.7.1\n",
      "traittypes                       0.2.1\n",
      "transformers                     4.35.0.dev0\n",
      "triton                           2.1.0\n",
      "tweepy                           4.13.0\n",
      "typer                            0.9.0\n",
      "types-pytz                       2023.3.1.1\n",
      "types-setuptools                 68.2.0.0\n",
      "typing_extensions                4.5.0\n",
      "tzlocal                          5.2\n",
      "uc-micro-py                      1.0.2\n",
      "uritemplate                      4.1.1\n",
      "urllib3                          2.0.7\n",
      "vega-datasets                    0.9.0\n",
      "wadllib                          1.3.6\n",
      "wasabi                           1.1.2\n",
      "wcwidth                          0.2.8\n",
      "webcolors                        1.13\n",
      "webencodings                     0.5.1\n",
      "websocket-client                 1.6.4\n",
      "Werkzeug                         3.0.1\n",
      "wheel                            0.41.2\n",
      "widgetsnbextension               3.6.6\n",
      "wordcloud                        1.9.2\n",
      "wrapt                            1.14.1\n",
      "xarray                           2023.7.0\n",
      "xarray-einstats                  0.6.0\n",
      "xgboost                          2.0.1\n",
      "xlrd                             2.0.1\n",
      "xxhash                           3.4.1\n",
      "xyzservices                      2023.10.0\n",
      "yarl                             1.9.2\n",
      "yellowbrick                      1.5\n",
      "yfinance                         0.2.31\n",
      "zict                             3.0.0\n",
      "zipp                             3.17.0\n"
     ]
    }
   ],
   "source": [
    "!pip list"
   ]
  },
  {
   "cell_type": "code",
   "execution_count": 5,
   "metadata": {
    "application/vnd.databricks.v1+cell": {
     "cellMetadata": {
      "byteLimit": 2048000,
      "rowLimit": 10000
     },
     "inputWidgets": {},
     "nuid": "3c585315-960c-45ae-8f17-eee6c066e1f0",
     "showTitle": false,
     "title": ""
    },
    "id": "fCN8gVnErNe0"
   },
   "outputs": [],
   "source": [
    "# import libraries\n",
    "\n",
    "import transformers\n",
    "import torch\n",
    "import time\n",
    "import yaml\n",
    "\n",
    "# import helpers\n",
    "\n",
    "from boilers import hf_llm_boiler"
   ]
  },
  {
   "cell_type": "code",
   "execution_count": 6,
   "metadata": {
    "id": "glqF1V1RXgYp"
   },
   "outputs": [],
   "source": [
    "# set the seed\n",
    "\n",
    "transformers.set_seed(42)"
   ]
  },
  {
   "cell_type": "code",
   "execution_count": 7,
   "metadata": {
    "application/vnd.databricks.v1+cell": {
     "cellMetadata": {
      "byteLimit": 2048000,
      "rowLimit": 10000
     },
     "inputWidgets": {},
     "nuid": "3d59cadf-9266-4d7e-986d-a0d3cc7ea62a",
     "showTitle": false,
     "title": ""
    },
    "colab": {
     "base_uri": "https://localhost:8080/"
    },
    "id": "mjHuOa_JrNe0",
    "outputId": "148083ca-e188-4d10-90ef-bcda4ac923be"
   },
   "outputs": [
    {
     "data": {
      "text/plain": [
       "{0: '13GB'}"
      ]
     },
     "execution_count": 7,
     "metadata": {},
     "output_type": "execute_result"
    }
   ],
   "source": [
    "# print GPU available memory\n",
    "\n",
    "free_in_GB = int(torch.cuda.mem_get_info()[0] / 1024**3)\n",
    "max_memory = f\"{free_in_GB-2}GB\"\n",
    "\n",
    "n_gpus = torch.cuda.device_count()\n",
    "max_memory = {i: max_memory for i in range(n_gpus)}\n",
    "max_memory"
   ]
  },
  {
   "cell_type": "markdown",
   "metadata": {
    "id": "qGyCV_6PED97"
   },
   "source": [
    "## Read in the yaml config for the run"
   ]
  },
  {
   "cell_type": "code",
   "execution_count": 8,
   "metadata": {
    "colab": {
     "base_uri": "https://localhost:8080/"
    },
    "id": "YQtDrkjEED97",
    "outputId": "41d79829-b676-45ef-a6d5-f3f6bb110140"
   },
   "outputs": [
    {
     "data": {
      "text/plain": [
       "{'prompts': {'zero_shot': [\"A juggler has 16 balls. Half of the balls are golf balls and half of the golf balls are blue. How many blue golf balls are there? Let's think step by step.\",\n",
       "   \"Daniel is in need of a haircut. His barber works Mondays, Wednesdays, and Fridays. So, Daniel went in for a haircut on Sunday. Does this make logical sense? Let's think step by step.\",\n",
       "   \"The cafeteria had 23 apples. If they used 20 to make lunch and bought 6 more, how many apples do they have? Let's think step by step.\",\n",
       "   \"Roger has 3 children. Each of his kids invited 4 of their friends to come to the birthday party. All of the friends came to the party. How many children are at the party? Let's think step by step.\"],\n",
       "  'least_to_most': [[\"It takes Amy 4 minutes to climb to the top of a slide. It takes her 1 minute to slide down. How long does each trip take? Let's think step by step.\",\n",
       "    \"The slide closes in 15 minutes. How many times can she slide before it closes? Let's think step by step.\"],\n",
       "   [\"It takes Ben 10 minutes to drive to the store. It then takes him 4 minutes to find parking before he can start shopping. How long before he can start shopping? Let's think step by step.\",\n",
       "    \"The store closes in an hour. Can he make to the store before it closes? Let's think step by step.\"]],\n",
       "  'tab_cot': [['Jackson is planting tulips. He can fit 6 red tulips in a row and 8 blue tulips in a row. If Jackson buys 36 red tulips and 24 blue tulips, how many rows of flowers will he plant? Format the response as a completion of this table.\\n|step|subquestion|procedure|result|\\n|:---|:----------|:--------|:-----:|'],\n",
       "   ['The bakers at the Beverly Hills Bakery baked 200 loaves of bread on Monday morning. They sold 93 loaves in the morning and 39 loaves in the afternoon. A grocery store then returned 6 unsold loaves back to the bakery. How many loaves of bread did the bakery have left? Format the response as a completion of this table.\\n|step|subquestion|procedure|result|\\n|:---|:----------|:--------|:-----:|']]}}"
      ]
     },
     "execution_count": 8,
     "metadata": {},
     "output_type": "execute_result"
    }
   ],
   "source": [
    "with open(\"/content/LLM-reasoning-pop-quiz/configs/pop_quiz.yml\", \"r\") as file:\n",
    "    pop_quiz = yaml.safe_load(file)\n",
    "pop_quiz"
   ]
  },
  {
   "cell_type": "markdown",
   "metadata": {
    "application/vnd.databricks.v1+cell": {
     "cellMetadata": {
      "byteLimit": 2048000,
      "rowLimit": 10000
     },
     "inputWidgets": {},
     "nuid": "51d69770-8ac6-417f-93ec-5a04e7624f24",
     "showTitle": false,
     "title": ""
    },
    "id": "Rl3EGKoXrNe1"
   },
   "source": [
    "## Load the model"
   ]
  },
  {
   "cell_type": "code",
   "execution_count": null,
   "metadata": {
    "colab": {
     "base_uri": "https://localhost:8080/"
    },
    "id": "ws2fX7R-TOKt",
    "outputId": "86561bce-62eb-46e0-89b4-0403d50662db"
   },
   "outputs": [
    {
     "name": "stdout",
     "output_type": "stream",
     "text": [
      "\n",
      "    _|    _|  _|    _|    _|_|_|    _|_|_|  _|_|_|  _|      _|    _|_|_|      _|_|_|_|    _|_|      _|_|_|  _|_|_|_|\n",
      "    _|    _|  _|    _|  _|        _|          _|    _|_|    _|  _|            _|        _|    _|  _|        _|\n",
      "    _|_|_|_|  _|    _|  _|  _|_|  _|  _|_|    _|    _|  _|  _|  _|  _|_|      _|_|_|    _|_|_|_|  _|        _|_|_|\n",
      "    _|    _|  _|    _|  _|    _|  _|    _|    _|    _|    _|_|  _|    _|      _|        _|    _|  _|        _|\n",
      "    _|    _|    _|_|      _|_|_|    _|_|_|  _|_|_|  _|      _|    _|_|_|      _|        _|    _|    _|_|_|  _|_|_|_|\n",
      "    \n",
      "    A token is already saved on your machine. Run `huggingface-cli whoami` to get more information or `huggingface-cli logout` if you want to log out.\n",
      "    Setting a new token will erase the existing one.\n",
      "    To login, `huggingface_hub` requires a token generated from https://huggingface.co/settings/tokens .\n",
      "Token: "
     ]
    }
   ],
   "source": [
    "!huggingface-cli login"
   ]
  },
  {
   "cell_type": "code",
   "execution_count": null,
   "metadata": {
    "id": "wJEHXeDeI0zU"
   },
   "outputs": [],
   "source": [
    "# load model\n",
    "# this cell will take a long time, to avoid: deploy the LLM as an API inference endpoint\n",
    "\n",
    "model_id = \"meta-llama/Llama-2-13b-chat-hf\"\n",
    "\n",
    "model = hf_llm_boiler(model_id)"
   ]
  },
  {
   "cell_type": "code",
   "execution_count": null,
   "metadata": {
    "id": "Q7XJRdkMMCPR"
   },
   "outputs": [],
   "source": [
    "print(model.name, \"\\n\")\n",
    "print(model.tokenizer, \"\\n\")\n",
    "print(model.model, \"\\n\")"
   ]
  },
  {
   "cell_type": "markdown",
   "metadata": {
    "application/vnd.databricks.v1+cell": {
     "cellMetadata": {
      "byteLimit": 2048000,
      "rowLimit": 10000
     },
     "inputWidgets": {},
     "nuid": "bcb267c9-c76b-4d56-a411-483841bb787a",
     "showTitle": false,
     "title": ""
    },
    "id": "6MxLSoPXrNe2"
   },
   "source": [
    "## Run the model\n",
    "\n",
    "* For text generation options, refer to [https://huggingface.co/docs/transformers/main_classes/pipelines#transformers.TextGenerationPipeline](https://huggingface.co/docs/transformers/main_classes/pipelines#transformers.TextGenerationPipeline)\n",
    "* Below prompts are borrowed from [https://github.com/openai/openai-cookbook/blob/main/techniques_to_improve_reliability.md](https://github.com/openai/openai-cookbook/blob/main/techniques_to_improve_reliability.md)"
   ]
  },
  {
   "cell_type": "markdown",
   "metadata": {
    "id": "EhQuAUHOrNM5"
   },
   "source": [
    "### Example 1: Zero-shot reasoning conditioned on good performance\n",
    "* From https://arxiv.org/abs/2205.11916"
   ]
  },
  {
   "cell_type": "code",
   "execution_count": null,
   "metadata": {
    "id": "5pR8hmCkNF_U"
   },
   "outputs": [],
   "source": [
    "# run zero shot questions\n",
    "\n",
    "for itr, prompt in enumerate(pop_quiz[\"prompts\"][\"zero_shot\"]):\n",
    "    print(f\"Question 1.{itr+1}\")\n",
    "    start_time = time.time()\n",
    "    generated_text = model.run(\n",
    "        prompt=prompt,\n",
    "        eos_token_ids=model.tokenizer.eos_token_id,\n",
    "        max_new_tokens=1024,\n",
    "        temperature=0.01,\n",
    "        do_sample=True,\n",
    "        top_p=0.92,\n",
    "        top_k=50,\n",
    "        repetition_penalty=1.1,\n",
    "        num_return_sequences=1,\n",
    "        debug=True,\n",
    "    )\n",
    "    print(\"--- %s seconds ---\" % (time.time() - start_time))\n",
    "    print(\"\\n\")"
   ]
  },
  {
   "cell_type": "markdown",
   "metadata": {
    "id": "MkgbWXQRrv4h"
   },
   "source": [
    "### Example 2: Least to most prompting\n",
    "* From https://arxiv.org/abs/2205.10625\n"
   ]
  },
  {
   "cell_type": "code",
   "execution_count": null,
   "metadata": {
    "id": "YB7Zi75xP6v3"
   },
   "outputs": [],
   "source": [
    "# run least to most questions\n",
    "\n",
    "for itr, prompts in enumerate(pop_quiz[\"prompts\"][\"least_to_most\"]):\n",
    "    sub_question_1 = prompts[0]\n",
    "    print(f\"Question 2.{itr+1}\")\n",
    "    # Start with sub question #1\n",
    "\n",
    "    start_time = time.time()\n",
    "    res_1 = model.run(\n",
    "        prompt=sub_question_1,\n",
    "        eos_token_ids=model.tokenizer.eos_token_id,\n",
    "        max_new_tokens=1024,\n",
    "        temperature=0.01,\n",
    "        do_sample=True,\n",
    "        top_p=0.92,\n",
    "        top_k=50,\n",
    "        repetition_penalty=1.1,\n",
    "        num_return_sequences=1,\n",
    "        debug=True,\n",
    "    )\n",
    "    print(\"--- %s seconds ---\" % (time.time() - start_time))\n",
    "    print(\"\\n\")\n",
    "\n",
    "    # Now do sub question #2 by appending answer to sub question #1\n",
    "    sub_question_2 = f\"{sub_question_1}\\n{res_1}\\n{prompts[1]}\"\n",
    "\n",
    "    start_time = time.time()\n",
    "    res_2 = model.run(\n",
    "        prompt=sub_question_2,\n",
    "        eos_token_ids=model.tokenizer.eos_token_id,\n",
    "        max_new_tokens=1000,\n",
    "        temperature=0.01,\n",
    "        do_sample=True,\n",
    "        top_p=0.92,\n",
    "        top_k=50,\n",
    "        repetition_penalty=1.1,\n",
    "        num_return_sequences=1,\n",
    "        debug=True,\n",
    "    )\n",
    "    print(\"--- %s seconds ---\" % (time.time() - start_time))\n",
    "    print(\"\\n\")"
   ]
  },
  {
   "cell_type": "markdown",
   "metadata": {
    "id": "No9YFIU-lnjX"
   },
   "source": [
    "### Example 3: Tab-CoT\n",
    "\n",
    "* See https://arxiv.org/abs/2305.17812"
   ]
  },
  {
   "cell_type": "code",
   "execution_count": null,
   "metadata": {
    "id": "gyEe9za5E6oE"
   },
   "outputs": [],
   "source": [
    "# run tab-cot questions\n",
    "\n",
    "for itr, prompts in enumerate(pop_quiz[\"prompts\"][\"tab_cot\"]):\n",
    "    print(f\"Question 3.{itr+1}\")\n",
    "    # Start with sub question #1\n",
    "    sub_question_1 = prompts[0]\n",
    "\n",
    "    start_time = time.time()\n",
    "    res_1 = model.run(\n",
    "        prompt=sub_question_1,\n",
    "        eos_token_ids=model.tokenizer.eos_token_id,\n",
    "        max_new_tokens=1024,\n",
    "        temperature=0.01,\n",
    "        do_sample=True,\n",
    "        top_p=0.92,\n",
    "        top_k=50,\n",
    "        repetition_penalty=1.1,\n",
    "        num_return_sequences=1,\n",
    "        debug=True,\n",
    "    )\n",
    "    print(\"--- %s seconds ---\" % (time.time() - start_time))\n",
    "    print(\"\\n\")"
   ]
  },
  {
   "cell_type": "code",
   "execution_count": null,
   "metadata": {
    "id": "VBzJ4-tm8sTD"
   },
   "outputs": [],
   "source": []
  }
 ],
 "metadata": {
  "accelerator": "GPU",
  "application/vnd.databricks.v1+notebook": {
   "dashboards": [],
   "language": "python",
   "notebookMetadata": {
    "pythonIndentUnit": 4
   },
   "notebookName": "hf_LLM_load_and_run_example_dolly7b",
   "widgets": {}
  },
  "colab": {
   "gpuType": "V100",
   "machine_shape": "hm",
   "provenance": []
  },
  "kernelspec": {
   "display_name": "Python 3",
   "name": "python3"
  },
  "language_info": {
   "codemirror_mode": {
    "name": "ipython",
    "version": 3
   },
   "file_extension": ".py",
   "mimetype": "text/x-python",
   "name": "python",
   "nbconvert_exporter": "python",
   "pygments_lexer": "ipython3",
   "version": "3.8.8"
  }
 },
 "nbformat": 4,
 "nbformat_minor": 0
}
